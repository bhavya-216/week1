{
 "cells": [
  {
   "cell_type": "markdown",
   "metadata": {},
   "source": [
    "Waste Management Using CNN Model"
   ]
  },
  {
   "cell_type": "code",
   "execution_count": null,
   "metadata": {
    "vscode": {
     "languageId": "plaintext"
    }
   },
   "outputs": [],
   "source": [
    "import numpy as np\n",
    "\n",
    "import pandas as pd\n",
    "\n",
    "import matplotlib.pyplot as plt\n",
    "\n",
    "import cv2\n",
    "\n",
    "from tqdm import tqdm\n",
    "\n",
    "import warnings\n",
    "\n",
    "warnings.filterwarnings('ignore')\n",
    " \n",
    "train_path = \"dataset/TRAIN\" \n",
    "\n",
    "test_path = \"dataset/TEST\"\n",
    " \n",
    "from tensorflow.keras.models import Sequential\n",
    "\n",
    "from tensorflow.keras.layers import Conv2D, MaxPooling2D, Activation, Dropout, Flatten, Dense, BatchNormalization\n",
    "\n",
    "from tensorflow.keras.preprocessing.image import ImageDataGenerator, img_to_array, load_img\n",
    "\n",
    "from tensorflow.keras.utils import plot_model\n",
    "\n",
    "from glob import glob\n",
    " \n",
    "#visualization\n",
    "\n",
    "x_data = []\n",
    "\n",
    "y_data = []\n",
    "\n",
    "for category in glob(train_path+\"/*\"):\n",
    "\n",
    "    for file in tqdm(glob(category+\"/*\")):\n",
    "\n",
    "        img_array = cv2.imread(file)\n",
    "\n",
    "        img_array = cv2.cvtColor(img_array,cv2.COLOR_BGR2RGB)\n",
    "\n",
    "        x_data.append(img_array)\n",
    "\n",
    "        y_data.append(category.split('/')[-1])\n",
    "\n",
    "data = pd.DataFrame({'image':x_data,\"label\":y_data})\n",
    " \n",
    "data.shape()\n",
    " \n",
    "colors = [\"#a0d157\", \"#c48bb8\"]\n",
    "\n",
    "plt.pie(data.label.value_counts(), labels = [\"Organic\",\"Recyclable\"], autopct = '%0.2f%%', colors = colors, startangle = 90, explode = [0.05, 0.05] ) #explode is optional\n",
    "\n",
    "plt.show()"
   ]
  }
 ],
 "metadata": {
  "language_info": {
   "name": "python"
  }
 },
 "nbformat": 4,
 "nbformat_minor": 2
}
