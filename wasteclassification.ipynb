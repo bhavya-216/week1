{
 "cells": [
  {
   "cell_type": "markdown",
   "metadata": {},
   "source": [
    "Waste Management Using CNN Model"
   ]
  },
  {
   "cell_type": "code",
   "execution_count": null,
   "metadata": {
    "vscode": {
     "languageId": "plaintext"
    }
   },
   "outputs": [],
   "source": [
    "import numpy as np\n",
    "import pandas as pd\n",
    "import matplotlib.pyplot as plt\n",
    "import cv2\n",
    "from tqdm import tqdm\n",
    "import warnings\n",
    "warnings.filterwarnings('ignore')\n",
    "\n",
    "train_path = \"dataset/TRAIN\"\n",
    "test_path = \"dataset/TEST\"\n",
    "\n",
    "from tensorflow.keras.models import Sequential\n",
    "from tensorflow.keras.layers import Conv2D, MaxPooling2D, Activation, Dropout, Flatten, Dense, BatchNormalization\n",
    "from tensorflow.keras.preprocessing.image import ImageDataGenerator, img_to_array, load_img\n",
    "from tensorflow.keras.utils import plot_model\n",
    "from glob import glob\n",
    "\n",
    "# Visualization\n",
    "x_data = []\n",
    "y_data = []\n",
    "\n",
    "for category in glob(train_path + \"/*\"):\n",
    "    for file in tqdm(glob(category + \"/*\")):\n",
    "        img_array = cv2.imread(file)\n",
    "        img_array = cv2.cvtColor(img_array, cv2.COLOR_BGR2RGB)\n",
    "        x_data.append(img_array)\n",
    "        y_data.append(category.split('/')[-1])\n",
    "\n",
    "data = pd.DataFrame({'image': x_data, \"label\": y_data})\n",
    "\n",
    "print(data.shape)  # Ensure to use print to display the shape\n",
    "\n",
    "colors = [\"#a0d157\", \"#c48bb8\"]\n",
    "plt.figure(figsize=(8, 8))\n",
    "plt.pie(data.label.value_counts(), labels=[\"Organic\", \"Recyclable\"], autopct='%0.2f%%', colors=colors, \n",
    "        startangle=90, explode=[0.05, 0.05], shadow=True, textprops={'fontsize': 14, 'color': 'black'})\n",
    "plt.title('Waste Distribution', fontsize=18, color='navy')\n",
    "plt.legend(loc='upper right', fontsize=12)\n",
    "plt.show()\n"
   ]
  }
 ],
 "metadata": {
  "language_info": {
   "name": "python"
  }
 },
 "nbformat": 4,
 "nbformat_minor": 2
}
